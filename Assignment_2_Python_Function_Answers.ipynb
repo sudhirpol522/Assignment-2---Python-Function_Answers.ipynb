{
  "nbformat": 4,
  "nbformat_minor": 0,
  "metadata": {
    "kernelspec": {
      "display_name": "Python 3",
      "language": "python",
      "name": "python3"
    },
    "language_info": {
      "codemirror_mode": {
        "name": "ipython",
        "version": 3
      },
      "file_extension": ".py",
      "mimetype": "text/x-python",
      "name": "python",
      "nbconvert_exporter": "python",
      "pygments_lexer": "ipython3",
      "version": "3.7.4"
    },
    "colab": {
      "name": "Assignment 2 - Python Function_Answers.ipynb",
      "provenance": []
    }
  },
  "cells": [
    {
      "cell_type": "markdown",
      "metadata": {
        "id": "JuLLht5GlRBt",
        "colab_type": "text"
      },
      "source": [
        "## Problem Statement"
      ]
    },
    {
      "cell_type": "markdown",
      "metadata": {
        "id": "GfXiQUNGlRBz",
        "colab_type": "text"
      },
      "source": [
        "Q.1 Write a Python Program to implement your own myreduce() function which works exactly like\n",
        "Python's built-in function reduce()\n"
      ]
    },
    {
      "cell_type": "code",
      "metadata": {
        "id": "R3WlSZMzlRB1",
        "colab_type": "code",
        "colab": {
          "base_uri": "https://localhost:8080/",
          "height": 34
        },
        "outputId": "7a0ce005-de41-400e-9ac8-baaed04bc6c7"
      },
      "source": [
        "def myreduce(anyfunc, sequence):\n",
        "\n",
        "  result = sequence[0] \n",
        "  for item in sequence[1:]:\n",
        "   result = anyfunc(result, item)\n",
        "\n",
        "  return result\n",
        "def mul(x,y): \n",
        "  return x * y\n",
        "print(str(myreduce(mul,[1,2,34,5])))"
      ],
      "execution_count": 13,
      "outputs": [
        {
          "output_type": "stream",
          "text": [
            "340\n"
          ],
          "name": "stdout"
        }
      ]
    },
    {
      "cell_type": "markdown",
      "metadata": {
        "id": "Au-zxVQnlRB8",
        "colab_type": "text"
      },
      "source": [
        "Q.2 Write a Python program to implement your own myfilter() function which works exactly like\n",
        "Python's built-in function filter()"
      ]
    },
    {
      "cell_type": "code",
      "metadata": {
        "id": "XRLDh1UhlRCA",
        "colab_type": "code",
        "colab": {
          "base_uri": "https://localhost:8080/",
          "height": 34
        },
        "outputId": "b1b83863-1adc-4ebb-ce85-30376235981e"
      },
      "source": [
        "def myfilter(anyfunc, sequence):\n",
        "\n",
        " result = []\n",
        " \n",
        " for item in sequence:\n",
        "  if anyfunc(item):\n",
        "   result.append(item)\n",
        "\n",
        "\n",
        " return result\n",
        "\n",
        "\n",
        "def ismodby10(x):\n",
        "  if(x%10 == 0):\n",
        "    return True\n",
        "  else:\n",
        "    return False\n",
        "print(str(myfilter(ismodby10, [0,1,-2,3,4,5,10,30])))\n",
        "\n"
      ],
      "execution_count": 11,
      "outputs": [
        {
          "output_type": "stream",
          "text": [
            "[0, 10, 30]\n"
          ],
          "name": "stdout"
        }
      ]
    },
    {
      "cell_type": "markdown",
      "metadata": {
        "id": "pQhiIynWlRCN",
        "colab_type": "text"
      },
      "source": [
        "Q.3 Implement List comprehensions to produce the following lists.\n",
        "   Write List comprehensions to produce the following Lists\n",
        "   \n",
        "    ['A', 'C', 'A', 'D', 'G', 'I', ’L’, ‘ D’]\n",
        "   \n",
        "    ['x', 'xx', 'xxx', 'xxxx', 'y', 'yy', 'yyy', 'yyyy', 'z', 'zz', 'zzz', 'zzzz']\n",
        "\n",
        "    ['x', 'y', 'z', 'xx', 'yy', 'zz', 'xx', 'yy', 'zz', 'xxxx', 'yyyy', 'zzzz']\n",
        "    \n",
        "    [[2], [3], [4], [3], [4], [5], [4], [5], [6]]\n",
        "\n",
        "    [[2, 3, 4, 5], [3, 4, 5, 6], [4, 5, 6, 7], [5, 6, 7, 8]]\n",
        "\n",
        "    [(1, 1), (2, 1), (3, 1), (1, 2), (2, 2), (3, 2), (1, 3), (2, 3), (3, 3)]"
      ]
    },
    {
      "cell_type": "code",
      "metadata": {
        "id": "QbabNNj4lRCR",
        "colab_type": "code",
        "colab": {
          "base_uri": "https://localhost:8080/",
          "height": 119
        },
        "outputId": "f2ce1a37-d080-483f-edd0-f844462f89ff"
      },
      "source": [
        "word = \"ACADGILD\"\n",
        "alphabet_list = [ alphabet for alphabet in word ]\n",
        "print(alphabet_list)\n",
        "input_l = ['x','y','z']\n",
        "result = [ item*num for item in input_l for num in range(1,5)  ]\n",
        "print((result))\n",
        "input_list2 = ['x','y','z']\n",
        "result = [ item*num for num in range(1,5) for item in input_list2  ]\n",
        "print( str(result))\n",
        "input_list = [2,3,4]\n",
        "result = [ [item+num] for item in input_list for num in range(0,3)]\n",
        "print( str(result))\n",
        "input_list = [2,3,4,5]\n",
        "result = [ [item+num for item in input_list] for num in range(0,4)  ]\n",
        "print( str(result))\n",
        "input_list=[1,2,3]\n",
        "result = [ (b,a) for a in input_list for b in input_list]\n",
        "print(str(result))\n"
      ],
      "execution_count": 29,
      "outputs": [
        {
          "output_type": "stream",
          "text": [
            "['A', 'C', 'A', 'D', 'G', 'I', 'L', 'D']\n",
            "['x', 'xx', 'xxx', 'xxxx', 'y', 'yy', 'yyy', 'yyyy', 'z', 'zz', 'zzz', 'zzzz']\n",
            "['x', 'y', 'z', 'xx', 'yy', 'zz', 'xxx', 'yyy', 'zzz', 'xxxx', 'yyyy', 'zzzz']\n",
            "[[2], [3], [4], [3], [4], [5], [4], [5], [6]]\n",
            "[[2, 3, 4, 5], [3, 4, 5, 6], [4, 5, 6, 7], [5, 6, 7, 8]]\n",
            "[(1, 1), (2, 1), (3, 1), (1, 2), (2, 2), (3, 2), (1, 3), (2, 3), (3, 3)]\n"
          ],
          "name": "stdout"
        }
      ]
    },
    {
      "cell_type": "markdown",
      "metadata": {
        "id": "zCPDml76lRCY",
        "colab_type": "text"
      },
      "source": [
        "Q.4 Implement a function longestWord() that takes a list of words and returns the longest one."
      ]
    },
    {
      "cell_type": "code",
      "metadata": {
        "id": "Roi5UayHlRCa",
        "colab_type": "code",
        "colab": {
          "base_uri": "https://localhost:8080/",
          "height": 34
        },
        "outputId": "4a870bed-38d2-4ffc-c0b7-de6ac480d3f0"
      },
      "source": [
        "def longest(x):\n",
        "  y=[]\n",
        "  for i in x:\n",
        "    y.append((len(i),i))\n",
        "  y=sorted(y)\n",
        "  return y[-1][1]\n",
        "\n",
        "print(longest(['sudhir','pol','whatthehell']))"
      ],
      "execution_count": 36,
      "outputs": [
        {
          "output_type": "stream",
          "text": [
            "whatthehell\n"
          ],
          "name": "stdout"
        }
      ]
    },
    {
      "cell_type": "markdown",
      "metadata": {
        "id": "jbQ-DYYClRCi",
        "colab_type": "text"
      },
      "source": [
        "Q.5 Write a Python Program(with class concepts) to find the area of the triangle using the below\n",
        "formula.\n",
        "\n",
        "area = (s*(s-a)*(s-b)*(s-c)) ** 0.5\n",
        "\n",
        "Function to take the length of the sides of triangle from user should be defined in the parent\n",
        "class and function to calculate the area should be defined in subclass."
      ]
    },
    {
      "cell_type": "code",
      "metadata": {
        "id": "c6ZN8wLalRCl",
        "colab_type": "code",
        "colab": {
          "base_uri": "https://localhost:8080/",
          "height": 34
        },
        "outputId": "724f05d1-4746-488f-d2ed-aa32d941b852"
      },
      "source": [
        "class traingle:\n",
        "  \n",
        "  def set_parameter(self,l,b,h):\n",
        "    self.l=l\n",
        "    self.b=b\n",
        "    self.h=h\n",
        "\n",
        "class area(traingle):\n",
        "  def calculate_area(self):\n",
        "    s= (self.l+self.b+self.h)/2\n",
        "    print((s*(s-self.l)*(s-self.b)*(s-self.h))**0.5)\n",
        "    \n",
        "a=area()\n",
        "a.set_parameter(5,6,7)\n",
        "a.calculate_area()\n",
        "\n"
      ],
      "execution_count": 54,
      "outputs": [
        {
          "output_type": "stream",
          "text": [
            "14.696938456699069\n"
          ],
          "name": "stdout"
        }
      ]
    },
    {
      "cell_type": "markdown",
      "metadata": {
        "id": "aie7t_ohlRCs",
        "colab_type": "text"
      },
      "source": [
        "Q.6 Write a function filter_long_words() that takes a list of words and an integer n and returns the list\n",
        "of words that are longer than n."
      ]
    },
    {
      "cell_type": "code",
      "metadata": {
        "id": "QZz3hUfdlRCu",
        "colab_type": "code",
        "colab": {
          "base_uri": "https://localhost:8080/",
          "height": 34
        },
        "outputId": "fe4f1526-a74e-41ce-9c66-973c68c334fc"
      },
      "source": [
        "def filter_long_words(x,n):\n",
        "  a=[]\n",
        "  for i in x:\n",
        "    if(len(i)>n):\n",
        "      a.append(i)\n",
        "  return a\n",
        "print(filter_long_words(['sudhir','pol'],3))\n"
      ],
      "execution_count": 55,
      "outputs": [
        {
          "output_type": "stream",
          "text": [
            "['sudhir']\n"
          ],
          "name": "stdout"
        }
      ]
    },
    {
      "cell_type": "markdown",
      "metadata": {
        "id": "42kJzYGjlRC2",
        "colab_type": "text"
      },
      "source": [
        "Q.7 Write a Python program using function concept that maps list of words into a list of integers\n",
        "representing the lengths of the corresponding words.\n",
        "    \n",
        "    Hint: If a list [ ab,cde,erty] is passed on to the python function output should come as [2,3,4]\n",
        "    Here 2,3 and 4 are the lengths of the words in the list."
      ]
    },
    {
      "cell_type": "code",
      "metadata": {
        "id": "vthLGUoalRC5",
        "colab_type": "code",
        "colab": {
          "base_uri": "https://localhost:8080/",
          "height": 34
        },
        "outputId": "bd6f1481-7c1f-472c-f25c-11592fa163ce"
      },
      "source": [
        "def filter_words(x):\n",
        "  a=[]\n",
        "  for i in x:\n",
        "      a.append(len(i))\n",
        "  return a\n",
        "print(filter_words(['sudhor','pol']))"
      ],
      "execution_count": 56,
      "outputs": [
        {
          "output_type": "stream",
          "text": [
            "[6, 3]\n"
          ],
          "name": "stdout"
        }
      ]
    },
    {
      "cell_type": "markdown",
      "metadata": {
        "id": "7zr1vnF-lRDB",
        "colab_type": "text"
      },
      "source": [
        "Q.8 Write a Python function which takes a character (i.e. a string of length 1) and returns True if it is\n",
        "a vowel, False otherwise."
      ]
    },
    {
      "cell_type": "code",
      "metadata": {
        "id": "DQj2ct6OlRDF",
        "colab_type": "code",
        "colab": {
          "base_uri": "https://localhost:8080/",
          "height": 51
        },
        "outputId": "bab51a30-2c63-4565-bd0c-fe3c6fabd972"
      },
      "source": [
        "a=input(\"input your character: \")\n",
        "\n",
        "def vowel(a):\n",
        "   if len(a)>1:\n",
        "     print('invalid')\n",
        "   else:\n",
        "      if a.lower() in ['a','e','i','o','u']:\n",
        "          return True\n",
        "      else:\n",
        "          return False\n",
        "print(vowel(a))  \n"
      ],
      "execution_count": 64,
      "outputs": [
        {
          "output_type": "stream",
          "text": [
            "input your character: A\n",
            "True\n"
          ],
          "name": "stdout"
        }
      ]
    },
    {
      "cell_type": "markdown",
      "metadata": {
        "id": "DN0BNM5rlRDR",
        "colab_type": "text"
      },
      "source": [
        "## Great job!"
      ]
    }
  ]
}